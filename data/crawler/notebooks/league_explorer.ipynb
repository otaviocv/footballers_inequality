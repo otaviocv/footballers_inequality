{
 "cells": [
  {
   "cell_type": "code",
   "execution_count": 2,
   "metadata": {},
   "outputs": [],
   "source": [
    "import pandas as pd\n",
    "import numpy as np\n",
    "import requests\n",
    "from bs4 import BeautifulSoup\n",
    "import bs4\n",
    "import hashlib"
   ]
  },
  {
   "cell_type": "code",
   "execution_count": 8,
   "metadata": {},
   "outputs": [],
   "source": [
    "headers = {\n",
    "   'User-Agent': 'Mozilla/5.0 (Macintosh; Intel Mac OS X 10_10_1) AppleWebKit/537.36 (KHTML, like Gecko) Chrome/39.0.2171.95 Safari/537.36'\n",
    "}"
   ]
  },
  {
   "cell_type": "code",
   "execution_count": 9,
   "metadata": {},
   "outputs": [],
   "source": [
    "base_url = 'https://www.transfermarkt.co.uk/'\n",
    "region_suffix = 'wettbewerbe/'\n",
    "region_url = base_url + region_suffix\n",
    "regions_list = ['amerika', 'europa', 'asien', 'europa', 'afrika']"
   ]
  },
  {
   "cell_type": "code",
   "execution_count": 10,
   "metadata": {},
   "outputs": [
    {
     "data": {
      "text/plain": [
       "'amerika'"
      ]
     },
     "execution_count": 10,
     "metadata": {},
     "output_type": "execute_result"
    }
   ],
   "source": [
    "regions_list[0]"
   ]
  },
  {
   "cell_type": "code",
   "execution_count": 14,
   "metadata": {},
   "outputs": [],
   "source": [
    "def all_pages_url(url):\n",
    "    return [url + F'?ajax=yw1&page={u}' for u in range(1, 50)]"
   ]
  },
  {
   "cell_type": "code",
   "execution_count": 15,
   "metadata": {},
   "outputs": [
    {
     "data": {
      "text/plain": [
       "['https://www.transfermarkt.co.uk/wettbewerbe/amerika?ajax=yw1&page=1',\n",
       " 'https://www.transfermarkt.co.uk/wettbewerbe/amerika?ajax=yw1&page=2',\n",
       " 'https://www.transfermarkt.co.uk/wettbewerbe/amerika?ajax=yw1&page=3',\n",
       " 'https://www.transfermarkt.co.uk/wettbewerbe/amerika?ajax=yw1&page=4',\n",
       " 'https://www.transfermarkt.co.uk/wettbewerbe/amerika?ajax=yw1&page=5',\n",
       " 'https://www.transfermarkt.co.uk/wettbewerbe/amerika?ajax=yw1&page=6',\n",
       " 'https://www.transfermarkt.co.uk/wettbewerbe/amerika?ajax=yw1&page=7',\n",
       " 'https://www.transfermarkt.co.uk/wettbewerbe/amerika?ajax=yw1&page=8',\n",
       " 'https://www.transfermarkt.co.uk/wettbewerbe/amerika?ajax=yw1&page=9',\n",
       " 'https://www.transfermarkt.co.uk/wettbewerbe/amerika?ajax=yw1&page=10',\n",
       " 'https://www.transfermarkt.co.uk/wettbewerbe/amerika?ajax=yw1&page=11',\n",
       " 'https://www.transfermarkt.co.uk/wettbewerbe/amerika?ajax=yw1&page=12',\n",
       " 'https://www.transfermarkt.co.uk/wettbewerbe/amerika?ajax=yw1&page=13',\n",
       " 'https://www.transfermarkt.co.uk/wettbewerbe/amerika?ajax=yw1&page=14',\n",
       " 'https://www.transfermarkt.co.uk/wettbewerbe/amerika?ajax=yw1&page=15',\n",
       " 'https://www.transfermarkt.co.uk/wettbewerbe/amerika?ajax=yw1&page=16',\n",
       " 'https://www.transfermarkt.co.uk/wettbewerbe/amerika?ajax=yw1&page=17',\n",
       " 'https://www.transfermarkt.co.uk/wettbewerbe/amerika?ajax=yw1&page=18',\n",
       " 'https://www.transfermarkt.co.uk/wettbewerbe/amerika?ajax=yw1&page=19',\n",
       " 'https://www.transfermarkt.co.uk/wettbewerbe/amerika?ajax=yw1&page=20',\n",
       " 'https://www.transfermarkt.co.uk/wettbewerbe/amerika?ajax=yw1&page=21',\n",
       " 'https://www.transfermarkt.co.uk/wettbewerbe/amerika?ajax=yw1&page=22',\n",
       " 'https://www.transfermarkt.co.uk/wettbewerbe/amerika?ajax=yw1&page=23',\n",
       " 'https://www.transfermarkt.co.uk/wettbewerbe/amerika?ajax=yw1&page=24',\n",
       " 'https://www.transfermarkt.co.uk/wettbewerbe/amerika?ajax=yw1&page=25',\n",
       " 'https://www.transfermarkt.co.uk/wettbewerbe/amerika?ajax=yw1&page=26',\n",
       " 'https://www.transfermarkt.co.uk/wettbewerbe/amerika?ajax=yw1&page=27',\n",
       " 'https://www.transfermarkt.co.uk/wettbewerbe/amerika?ajax=yw1&page=28',\n",
       " 'https://www.transfermarkt.co.uk/wettbewerbe/amerika?ajax=yw1&page=29',\n",
       " 'https://www.transfermarkt.co.uk/wettbewerbe/amerika?ajax=yw1&page=30',\n",
       " 'https://www.transfermarkt.co.uk/wettbewerbe/amerika?ajax=yw1&page=31',\n",
       " 'https://www.transfermarkt.co.uk/wettbewerbe/amerika?ajax=yw1&page=32',\n",
       " 'https://www.transfermarkt.co.uk/wettbewerbe/amerika?ajax=yw1&page=33',\n",
       " 'https://www.transfermarkt.co.uk/wettbewerbe/amerika?ajax=yw1&page=34',\n",
       " 'https://www.transfermarkt.co.uk/wettbewerbe/amerika?ajax=yw1&page=35',\n",
       " 'https://www.transfermarkt.co.uk/wettbewerbe/amerika?ajax=yw1&page=36',\n",
       " 'https://www.transfermarkt.co.uk/wettbewerbe/amerika?ajax=yw1&page=37',\n",
       " 'https://www.transfermarkt.co.uk/wettbewerbe/amerika?ajax=yw1&page=38',\n",
       " 'https://www.transfermarkt.co.uk/wettbewerbe/amerika?ajax=yw1&page=39',\n",
       " 'https://www.transfermarkt.co.uk/wettbewerbe/amerika?ajax=yw1&page=40',\n",
       " 'https://www.transfermarkt.co.uk/wettbewerbe/amerika?ajax=yw1&page=41',\n",
       " 'https://www.transfermarkt.co.uk/wettbewerbe/amerika?ajax=yw1&page=42',\n",
       " 'https://www.transfermarkt.co.uk/wettbewerbe/amerika?ajax=yw1&page=43',\n",
       " 'https://www.transfermarkt.co.uk/wettbewerbe/amerika?ajax=yw1&page=44',\n",
       " 'https://www.transfermarkt.co.uk/wettbewerbe/amerika?ajax=yw1&page=45',\n",
       " 'https://www.transfermarkt.co.uk/wettbewerbe/amerika?ajax=yw1&page=46',\n",
       " 'https://www.transfermarkt.co.uk/wettbewerbe/amerika?ajax=yw1&page=47',\n",
       " 'https://www.transfermarkt.co.uk/wettbewerbe/amerika?ajax=yw1&page=48',\n",
       " 'https://www.transfermarkt.co.uk/wettbewerbe/amerika?ajax=yw1&page=49']"
      ]
     },
     "execution_count": 15,
     "metadata": {},
     "output_type": "execute_result"
    }
   ],
   "source": [
    "all_pages_url(region_url + regions_list[0])"
   ]
  },
  {
   "cell_type": "code",
   "execution_count": 11,
   "metadata": {},
   "outputs": [],
   "source": [
    "def get_league_name(row):\n",
    "    return row.find('img', {'class': \"\"}).get(\"alt\")\n",
    "    pass\n",
    "\n",
    "def get_league_url(row):\n",
    "    return row.findAll('a')[1].get('href')\n",
    "\n",
    "def get_country(row):\n",
    "    return row.find('img', {'class': 'flaggenrahmen'}).get('alt')\n",
    "\n",
    "def get_clubs_number(row):\n",
    "    return row.findAll('td', {'class': 'zentriert'})[1].contents[0]\n",
    "\n",
    "def get_players_number(row):\n",
    "    return row.findAll('td', {'class': 'zentriert'})[2].contents[0]\n",
    "\n",
    "def get_avg_age(row):\n",
    "    return row.findAll('td', {'class': 'zentriert'})[3].contents[0]\n",
    "\n",
    "def get_foreign_players_percentage(row):\n",
    "    return row.findAll('td', {'class': 'zentriert'})[4].find('a').contents[0]\n",
    "\n",
    "def get_total_value(row):\n",
    "    return row.find('td', {'class': 'rechts'}).contents[0]"
   ]
  },
  {
   "cell_type": "code",
   "execution_count": 12,
   "metadata": {},
   "outputs": [
    {
     "name": "stdout",
     "output_type": "stream",
     "text": [
      "https://www.transfermarkt.co.uk/wettbewerbe/amerika\n"
     ]
    }
   ],
   "source": [
    "print(region_url + regions_list[0])\n",
    "result = requests.get(region_url + regions_list[0], headers=headers)\n",
    "soup = BeautifulSoup(result.content, 'html5lib')\n",
    "table = soup.find(name='table', attrs={'class': 'items'})\n",
    "table_body = table.find(name='tbody')\n",
    "rows = table_body.findAll('tr', attrs={'class': ['odd', 'even']})\n",
    "t = []\n",
    "for r in rows:\n",
    "    t.append({\n",
    "        'league': get_league_name(r),\n",
    "        'url': get_league_url(r),\n",
    "        'country': get_country(r),\n",
    "        'clubs': get_clubs_number(r),\n",
    "        'players': get_players_number(r),\n",
    "        'avg_age': get_avg_age(r),\n",
    "        'foreing_players': get_foreign_players_percentage(r),\n",
    "        'total_value': get_total_value(r),\n",
    "    })"
   ]
  },
  {
   "cell_type": "code",
   "execution_count": 33,
   "metadata": {},
   "outputs": [
    {
     "ename": "NameError",
     "evalue": "name 't' is not defined",
     "output_type": "error",
     "traceback": [
      "\u001b[0;31m---------------------------------------------------------------------------\u001b[0m",
      "\u001b[0;31mNameError\u001b[0m                                 Traceback (most recent call last)",
      "\u001b[0;32m<ipython-input-33-34a1b628043b>\u001b[0m in \u001b[0;36m<module>\u001b[0;34m()\u001b[0m\n\u001b[0;32m----> 1\u001b[0;31m \u001b[0mpd\u001b[0m\u001b[0;34m.\u001b[0m\u001b[0mDataFrame\u001b[0m\u001b[0;34m(\u001b[0m\u001b[0mt\u001b[0m\u001b[0;34m)\u001b[0m\u001b[0;34m.\u001b[0m\u001b[0mdrop_duplicates\u001b[0m\u001b[0;34m(\u001b[0m\u001b[0;34m)\u001b[0m\u001b[0;34m\u001b[0m\u001b[0m\n\u001b[0m",
      "\u001b[0;31mNameError\u001b[0m: name 't' is not defined"
     ]
    }
   ],
   "source": [
    "pd.DataFrame(t).drop_duplicates()"
   ]
  },
  {
   "cell_type": "code",
   "execution_count": 4,
   "metadata": {},
   "outputs": [],
   "source": [
    "data = pd.read_csv('../src/leagues.csv', index_col=0)"
   ]
  },
  {
   "cell_type": "code",
   "execution_count": 39,
   "metadata": {},
   "outputs": [],
   "source": [
    "data = data.drop_duplicates()"
   ]
  },
  {
   "cell_type": "code",
   "execution_count": 40,
   "metadata": {},
   "outputs": [
    {
     "data": {
      "text/plain": [
       "(435, 8)"
      ]
     },
     "execution_count": 40,
     "metadata": {},
     "output_type": "execute_result"
    }
   ],
   "source": [
    "data.shape"
   ]
  },
  {
   "cell_type": "code",
   "execution_count": 46,
   "metadata": {},
   "outputs": [
    {
     "data": {
      "text/plain": [
       "0     f7a0b21579629720bf0ece4ae4ca70f9\n",
       "1     02fd545bd1a1a5cde463c417fc01ce3d\n",
       "2     d3be95e4df6e9eb26b4acc63134eb216\n",
       "3     f9871b4028a8c3a42e060ef909336fbf\n",
       "4     01f58d7e6e72f8959f58df485ab37b82\n",
       "5     338d334dbcf302d4cb83afb5c6031325\n",
       "6     880f2b64092a62f5701f3629e3d92523\n",
       "7     28ae094a632d08a2ffe811bf54d1c758\n",
       "8     ace06996b03091d62500a9d9296cf7e2\n",
       "9     1df3f17b650f6363f59844a3007c9f5c\n",
       "10    f63d5c70fffefa534d661949f8e577ed\n",
       "11    5ffc0caccfe298c07b3702fd269b8ceb\n",
       "12    c7cb68765d18c047722061343f8e8a75\n",
       "13    d598957ea7685fe23f2d5af1417e54ca\n",
       "14    98bdb99381bec476962e90446f9080c0\n",
       "15    21da7d9df846a3a54679c0d584cc9847\n",
       "16    f620a38aa7f88b38cc657e032280e032\n",
       "17    9c1163dc656c050efeb71faa2e78b1d7\n",
       "18    ce2e687ead5b92440ac7563eed0097c8\n",
       "19    c71de1c5a2c7a783e538aef7b53a4894\n",
       "20    9a074bed6908a2bb794eab8c0fec044b\n",
       "21    7ec68cdd5721bca57daec04c03d3f62f\n",
       "22    c963416c6e2f92d8a6bca3aab4552039\n",
       "23    447e06af957f81df13eaa1354922f54d\n",
       "24    600d7c077aa7a8548238b8c151d513ae\n",
       "0     2a4fe0adf7c9d926f758f0c0b444516a\n",
       "1     52609e1fb8b2610f9ee6169ca1598b2b\n",
       "0     c3cd52df70f645c73cfabcfa28ca01a9\n",
       "1     a633be8922add21bfbcb4cfbabf81082\n",
       "2     93185dc4f98c1e1477fb7e313b6a7d49\n",
       "                    ...               \n",
       "3     114d408e1320dca247c8079e3838fee9\n",
       "4     5be16e12f92d82f4a7796d6da3c19ee2\n",
       "5     b32cc7b922edffef9119469459b28ec9\n",
       "6     fb66a346ca8156089ea2feb82605c0fc\n",
       "7     562680e42823050a06e849a622b76925\n",
       "8     d692ee8a39f501f22918586e0a8798f5\n",
       "9     16864d364b42a99a21e80e1f875183cf\n",
       "10    a3012e9204e54d022d58572a78a153f9\n",
       "11    ebcca0c4a36065ecdceeba489f0c000c\n",
       "12    c8e636d96b5edcca4ed80b81fe590ed0\n",
       "13    33d5526056df09f9f19a7072fb0eb807\n",
       "14    0c519fac9765a7e02ad2bb3c6c68b166\n",
       "15    ce51020227142cad4d62614d6acb5e0d\n",
       "16    8e555d589491de4d0d4ddcf903ae7bc8\n",
       "17    8c904b1c0594bda1eb9c2945bfa10051\n",
       "18    523394f3fedbacf1f0aa5828389c2495\n",
       "19    aa4de758eebf08233f3e73b2adcdc591\n",
       "20    d36f8f3677cc05476a0a0da2929f5153\n",
       "21    8b65b07f0417e100888821f8aeb6026b\n",
       "22    cddf5d963863022d41d71c425f83a97f\n",
       "23    156265c0c9d261139f0682b09874b2a2\n",
       "24    f12738e84c813a1f173ad41ce9d43abc\n",
       "0     670852d34f2b7d8d4d7b46e10b9e2d60\n",
       "1     88ee02de4e374a178a1f4489f2e3dc76\n",
       "2     b31ef55d2cc9d86cd8b78f20728a9bf9\n",
       "3     48b622ea31a1d921585f6b155b87e83d\n",
       "4     c4524794cf138e152517ee1f26b80066\n",
       "5     1c6feb05187cf9370632f0c9745d4292\n",
       "6     86526b1547fc8b583f7d00f14a8e3bec\n",
       "7     f724108691b2f4c08ef3c2b846aa1777\n",
       "Length: 435, dtype: object"
      ]
     },
     "execution_count": 46,
     "metadata": {},
     "output_type": "execute_result"
    }
   ],
   "source": [
    "data.apply(lambda x: hashlib.md5((x.country + x.league).encode()).hexdigest(), axis=1)"
   ]
  },
  {
   "cell_type": "code",
   "execution_count": null,
   "metadata": {},
   "outputs": [],
   "source": []
  }
 ],
 "metadata": {
  "kernelspec": {
   "display_name": "Python 3",
   "language": "python",
   "name": "python3"
  },
  "language_info": {
   "codemirror_mode": {
    "name": "ipython",
    "version": 3
   },
   "file_extension": ".py",
   "mimetype": "text/x-python",
   "name": "python",
   "nbconvert_exporter": "python",
   "pygments_lexer": "ipython3",
   "version": "3.6.5"
  }
 },
 "nbformat": 4,
 "nbformat_minor": 2
}
