{
 "cells": [
  {
   "cell_type": "markdown",
   "metadata": {},
   "source": [
    "# Team crawler notebook"
   ]
  },
  {
   "cell_type": "markdown",
   "metadata": {},
   "source": [
    "## Imports"
   ]
  },
  {
   "cell_type": "code",
   "execution_count": 4,
   "metadata": {},
   "outputs": [],
   "source": [
    "import pandas as pd\n",
    "import numpy as np\n",
    "import requests\n",
    "from bs4 import BeautifulSoup\n",
    "import bs4"
   ]
  },
  {
   "cell_type": "markdown",
   "metadata": {},
   "source": [
    "## Crawling variables"
   ]
  },
  {
   "cell_type": "code",
   "execution_count": 3,
   "metadata": {},
   "outputs": [],
   "source": [
    "headers = {\n",
    "   'User-Agent': 'Mozilla/5.0 (Macintosh; Intel Mac OS X 10_10_1) AppleWebKit/537.36 (KHTML, like Gecko) Chrome/39.0.2171.95 Safari/537.36'\n",
    "}"
   ]
  },
  {
   "cell_type": "code",
   "execution_count": 14,
   "metadata": {},
   "outputs": [],
   "source": [
    "base_url = 'https://www.transfermarkt.co.uk/'"
   ]
  },
  {
   "cell_type": "markdown",
   "metadata": {},
   "source": [
    "## Data"
   ]
  },
  {
   "cell_type": "code",
   "execution_count": 17,
   "metadata": {},
   "outputs": [],
   "source": [
    "leagues = pd.read_csv('../src/leagues.csv', index_col=0)\n",
    "leagues_url = leagues.url.values"
   ]
  },
  {
   "cell_type": "code",
   "execution_count": 127,
   "metadata": {},
   "outputs": [],
   "source": [
    "s = base_url + 'octogonal-apertura/startseite/wettbewerb/VZOA'"
   ]
  },
  {
   "cell_type": "code",
   "execution_count": 129,
   "metadata": {},
   "outputs": [
    {
     "data": {
      "text/plain": [
       "<Response [200]>"
      ]
     },
     "execution_count": 129,
     "metadata": {},
     "output_type": "execute_result"
    }
   ],
   "source": [
    "requests.get(s, headers=headers)"
   ]
  },
  {
   "cell_type": "code",
   "execution_count": 133,
   "metadata": {},
   "outputs": [
    {
     "name": "stdout",
     "output_type": "stream",
     "text": [
      "https://www.transfermarkt.co.uk/octogonal-apertura/startseite/wettbewerb/VZOA\n"
     ]
    },
    {
     "ename": "AttributeError",
     "evalue": "'NoneType' object has no attribute 'contents'",
     "output_type": "error",
     "traceback": [
      "\u001b[0;31m---------------------------------------------------------------------------\u001b[0m",
      "\u001b[0;31mAttributeError\u001b[0m                            Traceback (most recent call last)",
      "\u001b[0;32m<ipython-input-133-32d9c0d8817e>\u001b[0m in \u001b[0;36m<module>\u001b[0;34m()\u001b[0m\n\u001b[1;32m     14\u001b[0m         \u001b[0;34m'foreing_players'\u001b[0m\u001b[0;34m:\u001b[0m \u001b[0mget_foreingners\u001b[0m\u001b[0;34m(\u001b[0m\u001b[0mr\u001b[0m\u001b[0;34m)\u001b[0m\u001b[0;34m,\u001b[0m\u001b[0;34m\u001b[0m\u001b[0m\n\u001b[1;32m     15\u001b[0m         \u001b[0;34m'avg_age'\u001b[0m\u001b[0;34m:\u001b[0m \u001b[0mget_avg_age\u001b[0m\u001b[0;34m(\u001b[0m\u001b[0mr\u001b[0m\u001b[0;34m)\u001b[0m\u001b[0;34m,\u001b[0m\u001b[0;34m\u001b[0m\u001b[0m\n\u001b[0;32m---> 16\u001b[0;31m         \u001b[0;34m'total_market_value'\u001b[0m\u001b[0;34m:\u001b[0m \u001b[0mget_total_market_value\u001b[0m\u001b[0;34m(\u001b[0m\u001b[0mr\u001b[0m\u001b[0;34m)\u001b[0m\u001b[0;34m,\u001b[0m\u001b[0;34m\u001b[0m\u001b[0m\n\u001b[0m\u001b[1;32m     17\u001b[0m         \u001b[0;34m'avg_market_value'\u001b[0m\u001b[0;34m:\u001b[0m \u001b[0mget_avg_market_value\u001b[0m\u001b[0;34m(\u001b[0m\u001b[0mr\u001b[0m\u001b[0;34m)\u001b[0m\u001b[0;34m\u001b[0m\u001b[0m\n\u001b[1;32m     18\u001b[0m     })\n",
      "\u001b[0;32m<ipython-input-132-ef407dc4effb>\u001b[0m in \u001b[0;36mget_total_market_value\u001b[0;34m(row)\u001b[0m\n\u001b[1;32m     33\u001b[0m     \u001b[0;32mif\u001b[0m \u001b[0mlen\u001b[0m\u001b[0;34m(\u001b[0m\u001b[0mtds\u001b[0m\u001b[0;34m)\u001b[0m \u001b[0;34m<=\u001b[0m \u001b[0;36m6\u001b[0m\u001b[0;34m:\u001b[0m\u001b[0;34m\u001b[0m\u001b[0m\n\u001b[1;32m     34\u001b[0m         \u001b[0;32mreturn\u001b[0m \u001b[0;32mNone\u001b[0m\u001b[0;34m\u001b[0m\u001b[0m\n\u001b[0;32m---> 35\u001b[0;31m     \u001b[0;32mreturn\u001b[0m \u001b[0mtds\u001b[0m\u001b[0;34m[\u001b[0m\u001b[0;36m6\u001b[0m\u001b[0;34m]\u001b[0m\u001b[0;34m.\u001b[0m\u001b[0mfind\u001b[0m\u001b[0;34m(\u001b[0m\u001b[0;34m'a'\u001b[0m\u001b[0;34m)\u001b[0m\u001b[0;34m.\u001b[0m\u001b[0mcontents\u001b[0m\u001b[0;34m[\u001b[0m\u001b[0;36m0\u001b[0m\u001b[0;34m]\u001b[0m\u001b[0;34m\u001b[0m\u001b[0m\n\u001b[0m\u001b[1;32m     36\u001b[0m \u001b[0;34m\u001b[0m\u001b[0m\n\u001b[1;32m     37\u001b[0m \u001b[0;34m\u001b[0m\u001b[0m\n",
      "\u001b[0;31mAttributeError\u001b[0m: 'NoneType' object has no attribute 'contents'"
     ]
    }
   ],
   "source": [
    "url = s\n",
    "print(url)\n",
    "result = requests.get(url, headers=headers)\n",
    "soup = BeautifulSoup(result.content, 'html5lib')\n",
    "table = soup.find(name='table', attrs={'class': 'items'})\n",
    "table_body = table.find(name='tbody')\n",
    "rows = table_body.findAll('tr', attrs={'class': ['odd', 'even']})\n",
    "t = []\n",
    "for r in rows:\n",
    "    t.append({\n",
    "        'team': get_team_name(r),\n",
    "        'url': get_team_url(r),\n",
    "        'players': get_n_of_players(r),\n",
    "        'foreing_players': get_foreingners(r),\n",
    "        'avg_age': get_avg_age(r),\n",
    "        'total_market_value': get_total_market_value(r),\n",
    "        'avg_market_value': get_avg_market_value(r)\n",
    "    })"
   ]
  },
  {
   "cell_type": "code",
   "execution_count": 148,
   "metadata": {},
   "outputs": [
    {
     "data": {
      "text/plain": [
       "True"
      ]
     },
     "execution_count": 148,
     "metadata": {},
     "output_type": "execute_result"
    }
   ],
   "source": [
    "is_cup(soup)"
   ]
  },
  {
   "cell_type": "code",
   "execution_count": 147,
   "metadata": {},
   "outputs": [],
   "source": [
    "def is_cup(soup):\n",
    "    table_header = str(soup.find('div', {'class': 'table-header'}).contents[0])\n",
    "    return 'Clubs' not in table_header"
   ]
  },
  {
   "cell_type": "code",
   "execution_count": 134,
   "metadata": {},
   "outputs": [
    {
     "data": {
      "text/plain": [
       "[<tr class=\"odd\">\n",
       " <td class=\"zentriert\">1</td><td><table class=\"inline-table\"><tbody><tr><td rowspan=\"2\"><a href=\"#\"><img alt=\"Pedro Ramírez\" class=\"bilderrahmen-fixed\" src=\"https://tmssl.akamaized.net//images/portrait/small/308812-1449578786.jpg?lm=1449578799\" title=\"Pedro Ramírez\"/></a></td><td class=\"hauptlink\"><a class=\"spielprofil_tooltip\" href=\"/pedro-ramirez/profil/spieler/308812\" id=\"308812\" title=\"Pedro Ramírez\">Pedro Ramírez</a></td></tr><tr><td>Attacking Midfield</td></tr></tbody></table></td><td class=\"zentriert\"><a class=\"vereinprofil_tooltip\" href=\"/zamora-fc/startseite/verein/18018/saison_id/2017\" id=\"18018\"><img alt=\"Zamora FC\" class=\"\" src=\"https://tmssl.akamaized.net//images/wappen/verysmall/18018.png?lm=1500152426\" title=\" \"/></a></td><td class=\"rechts hauptlink\">£585k</td></tr>,\n",
       " <tr class=\"even\">\n",
       " <td class=\"zentriert\">2</td><td><table class=\"inline-table\"><tbody><tr><td rowspan=\"2\"><a href=\"#\"><img alt=\"Juan Falcón\" class=\"bilderrahmen-fixed\" src=\"https://tmssl.akamaized.net//images/portrait/small/202035-1415095382.jpg?lm=1433143950\" title=\"Juan Falcón\"/></a></td><td class=\"hauptlink\"><a class=\"spielprofil_tooltip\" href=\"/juan-falcon/profil/spieler/202035\" id=\"202035\" title=\"Juan Falcón\">Juan Falcón</a></td></tr><tr><td>Centre-Forward</td></tr></tbody></table></td><td class=\"zentriert\"><a class=\"vereinprofil_tooltip\" href=\"/deportivo-lara/startseite/verein/25380/saison_id/2017\" id=\"25380\"><img alt=\"Deportivo Lara\" class=\"\" src=\"https://tmssl.akamaized.net//images/wappen/verysmall/25380.png?lm=1438119048\" title=\" \"/></a></td><td class=\"rechts hauptlink\">£540k</td></tr>,\n",
       " <tr class=\"odd\">\n",
       " <td class=\"zentriert\">3</td><td><table class=\"inline-table\"><tbody><tr><td rowspan=\"2\"><a href=\"#\"><img alt=\"Rubert Quijada\" class=\"bilderrahmen-fixed\" src=\"https://tmssl.akamaized.net//bilder/mediumfotos/s_213628_531_2013_03_20_1.jpg?lm=0\" title=\"Rubert Quijada\"/></a></td><td class=\"hauptlink\"><a class=\"spielprofil_tooltip\" href=\"/rubert-quijada/profil/spieler/213628\" id=\"213628\" title=\"Rubert Quijada\">Rubert Quijada</a></td></tr><tr><td>Centre-Back</td></tr></tbody></table></td><td class=\"zentriert\"><a class=\"vereinprofil_tooltip\" href=\"/caracas-fc/startseite/verein/531/saison_id/2017\" id=\"531\"><img alt=\"Caracas FC\" class=\"\" src=\"https://tmssl.akamaized.net//images/wappen/verysmall/531.png?lm=1498079103\" title=\" \"/></a></td><td class=\"rechts hauptlink\">£540k</td></tr>,\n",
       " <tr class=\"even\">\n",
       " <td class=\"zentriert\">4</td><td><table class=\"inline-table\"><tbody><tr><td rowspan=\"2\"><a href=\"#\"><img alt=\"Kuki Martins\" class=\"bilderrahmen-fixed\" src=\"https://tmssl.akamaized.net//images/portrait/small/default.jpg?lm=1455618221\" title=\"Kuki Martins\"/></a></td><td class=\"hauptlink\"><a class=\"spielprofil_tooltip\" href=\"/kuki-martins/profil/spieler/72769\" id=\"72769\" title=\"Kuki Martins\">Kuki Martins</a></td></tr><tr><td>Central Midfield</td></tr></tbody></table></td><td class=\"zentriert\"><a class=\"vereinprofil_tooltip\" href=\"/caracas-fc/startseite/verein/531/saison_id/2017\" id=\"531\"><img alt=\"Caracas FC\" class=\"\" src=\"https://tmssl.akamaized.net//images/wappen/verysmall/531.png?lm=1498079103\" title=\" \"/></a></td><td class=\"rechts hauptlink\">£495k</td></tr>,\n",
       " <tr class=\"odd\">\n",
       " <td class=\"zentriert\">5</td><td><table class=\"inline-table\"><tbody><tr><td rowspan=\"2\"><a href=\"#\"><img alt=\"Jesús Hernández\" class=\"bilderrahmen-fixed\" src=\"https://tmssl.akamaized.net//images/portrait/small/123487-1510324171.jpg?lm=1510324180\" title=\"Jesús Hernández\"/></a></td><td class=\"hauptlink\"><a class=\"spielprofil_tooltip\" href=\"/jesus-hernandez/profil/spieler/123487\" id=\"123487\" title=\"Jesús Hernández\">Jesús Hernández</a></td></tr><tr><td>Centre-Forward</td></tr></tbody></table></td><td class=\"zentriert\"><a class=\"vereinprofil_tooltip\" href=\"/deportivo-lara/startseite/verein/25380/saison_id/2017\" id=\"25380\"><img alt=\"Deportivo Lara\" class=\"\" src=\"https://tmssl.akamaized.net//images/wappen/verysmall/25380.png?lm=1438119048\" title=\" \"/></a></td><td class=\"rechts hauptlink\">£450k</td></tr>]"
      ]
     },
     "execution_count": 134,
     "metadata": {},
     "output_type": "execute_result"
    }
   ],
   "source": [
    "rows"
   ]
  },
  {
   "cell_type": "code",
   "execution_count": null,
   "metadata": {},
   "outputs": [],
   "source": [
    "pd.DataFrame(t)"
   ]
  },
  {
   "cell_type": "code",
   "execution_count": 132,
   "metadata": {},
   "outputs": [],
   "source": [
    "def get_team_name(row):\n",
    "    return row.find('img').get(\"alt\")\n",
    "\n",
    "\n",
    "def get_team_url(row):\n",
    "    return row.findAll('a')[1].get('href')\n",
    "\n",
    "\n",
    "def get_n_of_players(row):\n",
    "    tds = row.findAll('td')\n",
    "    if len(tds) <= 3:\n",
    "        return None\n",
    "    return tds[3].find('a').contents[0]\n",
    "    \n",
    "\n",
    "\n",
    "def get_avg_age(row):\n",
    "    tds = row.findAll('td')\n",
    "    if len(tds) <= 4:\n",
    "        return None\n",
    "    return tds[4].contents[0]\n",
    "\n",
    "\n",
    "def get_foreingners(row):\n",
    "    tds = row.findAll('td')\n",
    "    if len(tds) <= 5:\n",
    "        return None\n",
    "    return tds[5].contents[0]\n",
    "\n",
    "\n",
    "def get_total_market_value(row):\n",
    "    tds = row.findAll('td')\n",
    "    if len(tds) <= 6:\n",
    "        return None\n",
    "    return tds[6].find('a').contents[0]\n",
    "\n",
    "\n",
    "def get_avg_market_value(row):\n",
    "    tds = row.findAll('td')\n",
    "    if len(tds) <= 7:\n",
    "        return None\n",
    "    return tds[7].contents[0]"
   ]
  },
  {
   "cell_type": "code",
   "execution_count": null,
   "metadata": {},
   "outputs": [],
   "source": []
  }
 ],
 "metadata": {
  "kernelspec": {
   "display_name": "Python 3",
   "language": "python",
   "name": "python3"
  },
  "language_info": {
   "codemirror_mode": {
    "name": "ipython",
    "version": 3
   },
   "file_extension": ".py",
   "mimetype": "text/x-python",
   "name": "python",
   "nbconvert_exporter": "python",
   "pygments_lexer": "ipython3",
   "version": "3.6.5"
  }
 },
 "nbformat": 4,
 "nbformat_minor": 2
}
