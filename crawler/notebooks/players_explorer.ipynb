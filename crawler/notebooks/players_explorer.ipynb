{
 "cells": [
  {
   "cell_type": "markdown",
   "metadata": {},
   "source": [
    "# Team crawler notebook"
   ]
  },
  {
   "cell_type": "markdown",
   "metadata": {},
   "source": [
    "## Imports"
   ]
  },
  {
   "cell_type": "code",
   "execution_count": 55,
   "metadata": {},
   "outputs": [],
   "source": [
    "import pandas as pd\n",
    "import numpy as np\n",
    "import requests\n",
    "from bs4 import BeautifulSoup\n",
    "import bs4\n",
    "import re"
   ]
  },
  {
   "cell_type": "markdown",
   "metadata": {},
   "source": [
    "## Crawling variables"
   ]
  },
  {
   "cell_type": "code",
   "execution_count": 2,
   "metadata": {},
   "outputs": [],
   "source": [
    "headers = {\n",
    "   'User-Agent': 'Mozilla/5.0 (Macintosh; Intel Mac OS X 10_10_1) AppleWebKit/537.36 (KHTML, like Gecko) Chrome/39.0.2171.95 Safari/537.36'\n",
    "}"
   ]
  },
  {
   "cell_type": "code",
   "execution_count": 3,
   "metadata": {},
   "outputs": [],
   "source": [
    "base_url = 'https://www.transfermarkt.co.uk/'"
   ]
  },
  {
   "cell_type": "markdown",
   "metadata": {},
   "source": [
    "## Data"
   ]
  },
  {
   "cell_type": "code",
   "execution_count": 4,
   "metadata": {},
   "outputs": [],
   "source": [
    "teams = pd.read_csv('../src/teams.csv', index_col=0)\n",
    "teams_url = teams.url.values"
   ]
  },
  {
   "cell_type": "code",
   "execution_count": 5,
   "metadata": {},
   "outputs": [
    {
     "name": "stdout",
     "output_type": "stream",
     "text": [
      "https://www.transfermarkt.co.uk/se-palmeiras-sao-paulo/startseite/verein/1023/saison_id/2017\n"
     ]
    }
   ],
   "source": [
    "print(base_url + teams_url[0][1:])"
   ]
  },
  {
   "cell_type": "code",
   "execution_count": 6,
   "metadata": {},
   "outputs": [],
   "source": [
    "s = 'https://www.transfermarkt.co.uk/se-palmeiras-sao-paulo/startseite/verein/1023/saison_id/2017' + '/plus/1'"
   ]
  },
  {
   "cell_type": "code",
   "execution_count": 7,
   "metadata": {},
   "outputs": [
    {
     "data": {
      "text/plain": [
       "<Response [200]>"
      ]
     },
     "execution_count": 7,
     "metadata": {},
     "output_type": "execute_result"
    }
   ],
   "source": [
    "requests.get(base_url + teams_url[0][1:], headers=headers)"
   ]
  },
  {
   "cell_type": "code",
   "execution_count": 123,
   "metadata": {},
   "outputs": [
    {
     "name": "stdout",
     "output_type": "stream",
     "text": [
      "https://www.transfermarkt.co.uk/se-palmeiras-sao-paulo/startseite/verein/1023/saison_id/2017/plus/1\n"
     ]
    }
   ],
   "source": [
    "url = s\n",
    "print(url)\n",
    "result = requests.get(url, headers=headers)\n",
    "soup = BeautifulSoup(result.content, 'html5lib')\n",
    "table = soup.find(name='table', attrs={'class': 'items'})\n",
    "table_body = table.find(name='tbody')\n",
    "rows = table_body.findAll('tr', attrs={'class': ['odd', 'even']})\n",
    "t = []\n",
    "for r in rows:\n",
    "    t.append({\n",
    "        'name': get_name(r),\n",
    "        'number': get_number(r),\n",
    "        'position': get_position(r),\n",
    "        'date_of_birth_and_age': get_date_of_birth_and_age(r),\n",
    "        'nationality': get_nationalities(r),\n",
    "        'market_value': get_market_value(r)\n",
    "    })"
   ]
  },
  {
   "cell_type": "code",
   "execution_count": 124,
   "metadata": {},
   "outputs": [
    {
     "data": {
      "text/html": [
       "<div>\n",
       "<style scoped>\n",
       "    .dataframe tbody tr th:only-of-type {\n",
       "        vertical-align: middle;\n",
       "    }\n",
       "\n",
       "    .dataframe tbody tr th {\n",
       "        vertical-align: top;\n",
       "    }\n",
       "\n",
       "    .dataframe thead th {\n",
       "        text-align: right;\n",
       "    }\n",
       "</style>\n",
       "<table border=\"1\" class=\"dataframe\">\n",
       "  <thead>\n",
       "    <tr style=\"text-align: right;\">\n",
       "      <th></th>\n",
       "      <th>date_of_birth_and_age</th>\n",
       "      <th>market_value</th>\n",
       "      <th>name</th>\n",
       "      <th>nationality</th>\n",
       "      <th>number</th>\n",
       "      <th>position</th>\n",
       "    </tr>\n",
       "  </thead>\n",
       "  <tbody>\n",
       "    <tr>\n",
       "      <th>0</th>\n",
       "      <td>Dec 13, 1987 (30)</td>\n",
       "      <td>£2.70m</td>\n",
       "      <td>Wéverton</td>\n",
       "      <td>Brazil</td>\n",
       "      <td>21</td>\n",
       "      <td>Goalkeeper</td>\n",
       "    </tr>\n",
       "    <tr>\n",
       "      <th>1</th>\n",
       "      <td>Jul 20, 1981 (37)</td>\n",
       "      <td>£675k</td>\n",
       "      <td>Jaílson</td>\n",
       "      <td>Brazil</td>\n",
       "      <td>42</td>\n",
       "      <td>Goalkeeper</td>\n",
       "    </tr>\n",
       "    <tr>\n",
       "      <th>2</th>\n",
       "      <td>Jul 9, 1978 (40)</td>\n",
       "      <td>£450k</td>\n",
       "      <td>Fernando Prass</td>\n",
       "      <td>[Brazil, Germany]</td>\n",
       "      <td>1</td>\n",
       "      <td>Goalkeeper</td>\n",
       "    </tr>\n",
       "    <tr>\n",
       "      <th>3</th>\n",
       "      <td>May 6, 1993 (25)</td>\n",
       "      <td>£3.60m</td>\n",
       "      <td>Gustavo Gómez</td>\n",
       "      <td>Paraguay</td>\n",
       "      <td>15</td>\n",
       "      <td>Centre-Back</td>\n",
       "    </tr>\n",
       "    <tr>\n",
       "      <th>4</th>\n",
       "      <td>May 10, 1993 (25)</td>\n",
       "      <td>£1.80m</td>\n",
       "      <td>Luan</td>\n",
       "      <td>Brazil</td>\n",
       "      <td>13</td>\n",
       "      <td>Centre-Back</td>\n",
       "    </tr>\n",
       "    <tr>\n",
       "      <th>5</th>\n",
       "      <td>Mar 7, 1993 (25)</td>\n",
       "      <td>£1.80m</td>\n",
       "      <td>Antônio Carlos</td>\n",
       "      <td>Brazil</td>\n",
       "      <td>25</td>\n",
       "      <td>Centre-Back</td>\n",
       "    </tr>\n",
       "    <tr>\n",
       "      <th>6</th>\n",
       "      <td>Feb 18, 1994 (24)</td>\n",
       "      <td>£900k</td>\n",
       "      <td>Nicolás Freire</td>\n",
       "      <td>Argentina</td>\n",
       "      <td>-</td>\n",
       "      <td>Centre-Back</td>\n",
       "    </tr>\n",
       "    <tr>\n",
       "      <th>7</th>\n",
       "      <td>May 18, 1981 (37)</td>\n",
       "      <td>£630k</td>\n",
       "      <td>Edú Dracena</td>\n",
       "      <td>[Brazil, Italy]</td>\n",
       "      <td>3</td>\n",
       "      <td>Centre-Back</td>\n",
       "    </tr>\n",
       "    <tr>\n",
       "      <th>8</th>\n",
       "      <td>May 3, 1997 (21)</td>\n",
       "      <td>£45k</td>\n",
       "      <td>Pedrão</td>\n",
       "      <td>Brazil</td>\n",
       "      <td>44</td>\n",
       "      <td>Centre-Back</td>\n",
       "    </tr>\n",
       "    <tr>\n",
       "      <th>9</th>\n",
       "      <td>Aug 17, 1992 (26)</td>\n",
       "      <td>£3.15m</td>\n",
       "      <td>Diogo Barbosa</td>\n",
       "      <td>Brazil</td>\n",
       "      <td>6</td>\n",
       "      <td>Left-Back</td>\n",
       "    </tr>\n",
       "    <tr>\n",
       "      <th>10</th>\n",
       "      <td>Jun 23, 1993 (25)</td>\n",
       "      <td>£1.80m</td>\n",
       "      <td>Victor Luis</td>\n",
       "      <td>[Brazil, Lithuania]</td>\n",
       "      <td>26</td>\n",
       "      <td>Left-Back</td>\n",
       "    </tr>\n",
       "    <tr>\n",
       "      <th>11</th>\n",
       "      <td>Dec 11, 1988 (29)</td>\n",
       "      <td>£3.15m</td>\n",
       "      <td>Marcos Rocha</td>\n",
       "      <td>Brazil</td>\n",
       "      <td>22</td>\n",
       "      <td>Right-Back</td>\n",
       "    </tr>\n",
       "    <tr>\n",
       "      <th>12</th>\n",
       "      <td>Jun 24, 1986 (32)</td>\n",
       "      <td>£2.70m</td>\n",
       "      <td>Jean</td>\n",
       "      <td>Brazil</td>\n",
       "      <td>2</td>\n",
       "      <td>Right-Back</td>\n",
       "    </tr>\n",
       "    <tr>\n",
       "      <th>13</th>\n",
       "      <td>Nov 10, 1992 (25)</td>\n",
       "      <td>£1.13m</td>\n",
       "      <td>Mayke</td>\n",
       "      <td>Brazil</td>\n",
       "      <td>12</td>\n",
       "      <td>Right-Back</td>\n",
       "    </tr>\n",
       "    <tr>\n",
       "      <th>14</th>\n",
       "      <td>Sep 5, 1989 (29)</td>\n",
       "      <td>£1.13m</td>\n",
       "      <td>Thiago Santos</td>\n",
       "      <td>Brazil</td>\n",
       "      <td>5</td>\n",
       "      <td>Defensive Midfield</td>\n",
       "    </tr>\n",
       "    <tr>\n",
       "      <th>15</th>\n",
       "      <td>Jun 26, 1983 (35)</td>\n",
       "      <td>£900k</td>\n",
       "      <td>Felipe Melo</td>\n",
       "      <td>[Brazil, Spain]</td>\n",
       "      <td>30</td>\n",
       "      <td>Defensive Midfield</td>\n",
       "    </tr>\n",
       "    <tr>\n",
       "      <th>16</th>\n",
       "      <td>Mar 17, 1988 (30)</td>\n",
       "      <td>£3.60m</td>\n",
       "      <td>Moisés</td>\n",
       "      <td>Brazil</td>\n",
       "      <td>10</td>\n",
       "      <td>Central Midfield</td>\n",
       "    </tr>\n",
       "    <tr>\n",
       "      <th>17</th>\n",
       "      <td>Oct 21, 1989 (28)</td>\n",
       "      <td>£3.15m</td>\n",
       "      <td>Bruno Henrique</td>\n",
       "      <td>[Brazil, Italy]</td>\n",
       "      <td>19</td>\n",
       "      <td>Central Midfield</td>\n",
       "    </tr>\n",
       "    <tr>\n",
       "      <th>18</th>\n",
       "      <td>Jan 7, 1992 (26)</td>\n",
       "      <td>£7.20m</td>\n",
       "      <td>Dudu</td>\n",
       "      <td>Brazil</td>\n",
       "      <td>7</td>\n",
       "      <td>Right Midfield</td>\n",
       "    </tr>\n",
       "    <tr>\n",
       "      <th>19</th>\n",
       "      <td>Jan 5, 1994 (24)</td>\n",
       "      <td>£8.10m</td>\n",
       "      <td>Gustavo Scarpa</td>\n",
       "      <td>[Brazil, Italy]</td>\n",
       "      <td>14</td>\n",
       "      <td>Attacking Midfield</td>\n",
       "    </tr>\n",
       "    <tr>\n",
       "      <th>20</th>\n",
       "      <td>Jul 9, 1990 (28)</td>\n",
       "      <td>£7.20m</td>\n",
       "      <td>Lucas Lima</td>\n",
       "      <td>Brazil</td>\n",
       "      <td>20</td>\n",
       "      <td>Attacking Midfield</td>\n",
       "    </tr>\n",
       "    <tr>\n",
       "      <th>21</th>\n",
       "      <td>Jul 9, 1985 (33)</td>\n",
       "      <td>£900k</td>\n",
       "      <td>Alejandro Guerra</td>\n",
       "      <td>Venezuela</td>\n",
       "      <td>18</td>\n",
       "      <td>Attacking Midfield</td>\n",
       "    </tr>\n",
       "    <tr>\n",
       "      <th>22</th>\n",
       "      <td>May 25, 1993 (25)</td>\n",
       "      <td>£810k</td>\n",
       "      <td>Hyoran</td>\n",
       "      <td>Brazil</td>\n",
       "      <td>28</td>\n",
       "      <td>Attacking Midfield</td>\n",
       "    </tr>\n",
       "    <tr>\n",
       "      <th>23</th>\n",
       "      <td>Mar 24, 1998 (20)</td>\n",
       "      <td>£450k</td>\n",
       "      <td>Vitinho</td>\n",
       "      <td>Brazil</td>\n",
       "      <td>39</td>\n",
       "      <td>Attacking Midfield</td>\n",
       "    </tr>\n",
       "    <tr>\n",
       "      <th>24</th>\n",
       "      <td>Feb 15, 1998 (20)</td>\n",
       "      <td>£360k</td>\n",
       "      <td>Artur</td>\n",
       "      <td>Brazil</td>\n",
       "      <td>37</td>\n",
       "      <td>Left Winger</td>\n",
       "    </tr>\n",
       "    <tr>\n",
       "      <th>25</th>\n",
       "      <td>Jan 26, 1993 (25)</td>\n",
       "      <td>£4.50m</td>\n",
       "      <td>Miguel Borja</td>\n",
       "      <td>Colombia</td>\n",
       "      <td>9</td>\n",
       "      <td>Centre-Forward</td>\n",
       "    </tr>\n",
       "    <tr>\n",
       "      <th>26</th>\n",
       "      <td>May 8, 1991 (27)</td>\n",
       "      <td>£4.05m</td>\n",
       "      <td>Deyverson</td>\n",
       "      <td>Brazil</td>\n",
       "      <td>16</td>\n",
       "      <td>Centre-Forward</td>\n",
       "    </tr>\n",
       "    <tr>\n",
       "      <th>27</th>\n",
       "      <td>Nov 19, 1986 (31)</td>\n",
       "      <td>£2.25m</td>\n",
       "      <td>Willian</td>\n",
       "      <td>Brazil</td>\n",
       "      <td>29</td>\n",
       "      <td>Centre-Forward</td>\n",
       "    </tr>\n",
       "    <tr>\n",
       "      <th>28</th>\n",
       "      <td>Sep 4, 1998 (20)</td>\n",
       "      <td>£113k</td>\n",
       "      <td>Yan</td>\n",
       "      <td>Brazil</td>\n",
       "      <td>47</td>\n",
       "      <td>Centre-Forward</td>\n",
       "    </tr>\n",
       "    <tr>\n",
       "      <th>29</th>\n",
       "      <td>Jan 4, 1997 (21)</td>\n",
       "      <td>£68k</td>\n",
       "      <td>Kauê</td>\n",
       "      <td>Brazil</td>\n",
       "      <td>-</td>\n",
       "      <td>Centre-Forward</td>\n",
       "    </tr>\n",
       "  </tbody>\n",
       "</table>\n",
       "</div>"
      ],
      "text/plain": [
       "   date_of_birth_and_age market_value              name          nationality  \\\n",
       "0      Dec 13, 1987 (30)      £2.70m           Wéverton               Brazil   \n",
       "1      Jul 20, 1981 (37)       £675k            Jaílson               Brazil   \n",
       "2       Jul 9, 1978 (40)       £450k     Fernando Prass    [Brazil, Germany]   \n",
       "3       May 6, 1993 (25)      £3.60m      Gustavo Gómez             Paraguay   \n",
       "4      May 10, 1993 (25)      £1.80m               Luan               Brazil   \n",
       "5       Mar 7, 1993 (25)      £1.80m     Antônio Carlos               Brazil   \n",
       "6      Feb 18, 1994 (24)       £900k     Nicolás Freire            Argentina   \n",
       "7      May 18, 1981 (37)       £630k        Edú Dracena      [Brazil, Italy]   \n",
       "8       May 3, 1997 (21)        £45k             Pedrão               Brazil   \n",
       "9      Aug 17, 1992 (26)      £3.15m      Diogo Barbosa               Brazil   \n",
       "10     Jun 23, 1993 (25)      £1.80m        Victor Luis  [Brazil, Lithuania]   \n",
       "11     Dec 11, 1988 (29)      £3.15m       Marcos Rocha               Brazil   \n",
       "12     Jun 24, 1986 (32)      £2.70m               Jean               Brazil   \n",
       "13     Nov 10, 1992 (25)      £1.13m              Mayke               Brazil   \n",
       "14      Sep 5, 1989 (29)      £1.13m      Thiago Santos               Brazil   \n",
       "15     Jun 26, 1983 (35)       £900k        Felipe Melo      [Brazil, Spain]   \n",
       "16     Mar 17, 1988 (30)      £3.60m             Moisés               Brazil   \n",
       "17     Oct 21, 1989 (28)      £3.15m     Bruno Henrique      [Brazil, Italy]   \n",
       "18      Jan 7, 1992 (26)      £7.20m               Dudu               Brazil   \n",
       "19      Jan 5, 1994 (24)      £8.10m     Gustavo Scarpa      [Brazil, Italy]   \n",
       "20      Jul 9, 1990 (28)      £7.20m         Lucas Lima               Brazil   \n",
       "21      Jul 9, 1985 (33)       £900k   Alejandro Guerra            Venezuela   \n",
       "22     May 25, 1993 (25)       £810k             Hyoran               Brazil   \n",
       "23     Mar 24, 1998 (20)       £450k            Vitinho               Brazil   \n",
       "24     Feb 15, 1998 (20)       £360k              Artur               Brazil   \n",
       "25     Jan 26, 1993 (25)      £4.50m       Miguel Borja             Colombia   \n",
       "26      May 8, 1991 (27)      £4.05m          Deyverson               Brazil   \n",
       "27     Nov 19, 1986 (31)      £2.25m            Willian               Brazil   \n",
       "28      Sep 4, 1998 (20)       £113k                Yan               Brazil   \n",
       "29      Jan 4, 1997 (21)        £68k               Kauê               Brazil   \n",
       "\n",
       "   number            position  \n",
       "0      21          Goalkeeper  \n",
       "1      42          Goalkeeper  \n",
       "2       1          Goalkeeper  \n",
       "3      15         Centre-Back  \n",
       "4      13         Centre-Back  \n",
       "5      25         Centre-Back  \n",
       "6       -         Centre-Back  \n",
       "7       3         Centre-Back  \n",
       "8      44         Centre-Back  \n",
       "9       6           Left-Back  \n",
       "10     26           Left-Back  \n",
       "11     22          Right-Back  \n",
       "12      2          Right-Back  \n",
       "13     12          Right-Back  \n",
       "14      5  Defensive Midfield  \n",
       "15     30  Defensive Midfield  \n",
       "16     10    Central Midfield  \n",
       "17     19    Central Midfield  \n",
       "18      7      Right Midfield  \n",
       "19     14  Attacking Midfield  \n",
       "20     20  Attacking Midfield  \n",
       "21     18  Attacking Midfield  \n",
       "22     28  Attacking Midfield  \n",
       "23     39  Attacking Midfield  \n",
       "24     37         Left Winger  \n",
       "25      9      Centre-Forward  \n",
       "26     16      Centre-Forward  \n",
       "27     29      Centre-Forward  \n",
       "28     47      Centre-Forward  \n",
       "29      -      Centre-Forward  "
      ]
     },
     "execution_count": 124,
     "metadata": {},
     "output_type": "execute_result"
    }
   ],
   "source": [
    "pd.DataFrame(t)"
   ]
  },
  {
   "cell_type": "code",
   "execution_count": 121,
   "metadata": {},
   "outputs": [
    {
     "data": {
      "text/plain": [
       "'£2.70m\\xa0'"
      ]
     },
     "execution_count": 121,
     "metadata": {},
     "output_type": "execute_result"
    }
   ],
   "source": [
    "rows[0].find('td', {'class': 'rechts hauptlink'}).contents[0]"
   ]
  },
  {
   "cell_type": "code",
   "execution_count": 122,
   "metadata": {},
   "outputs": [],
   "source": [
    "def get_number(row):\n",
    "    return row.find('div', {'class': 'rn_nummer'}).contents[0]\n",
    "\n",
    "\n",
    "def get_name(row):\n",
    "    return row.find('a', {'class': 'spielprofil_tooltip'}).contents[0]\n",
    "\n",
    "\n",
    "def get_position(row):\n",
    "    return row.find('table').findAll('td')[2].contents[0]\n",
    "\n",
    "\n",
    "def get_date_of_birth_and_age(row):\n",
    "    return row.findAll('td', {'class': 'zentriert'})[1].contents[0]\n",
    "\n",
    "\n",
    "def get_nationalities(row):\n",
    "    countries_img = row.findAll('img', {'class': 'flaggenrahmen'})\n",
    "    nationalities = [x.get('title') for x in countries_img]\n",
    "    if len(nationalities) == 1:\n",
    "        return nationalities[0]\n",
    "    return nationalities\n",
    "\n",
    "\n",
    "def get_market_value(row):\n",
    "    return row.find('td', {'class': 'rechts hauptlink'}).contents[0]"
   ]
  },
  {
   "cell_type": "code",
   "execution_count": null,
   "metadata": {},
   "outputs": [],
   "source": [
    "leagues = pd.read_csv('../src/leagues.csv', index_col=0)"
   ]
  },
  {
   "cell_type": "code",
   "execution_count": null,
   "metadata": {},
   "outputs": [],
   "source": [
    "teams = pd.read_csv('../src/teams.csv', index_col=0)"
   ]
  },
  {
   "cell_type": "code",
   "execution_count": null,
   "metadata": {},
   "outputs": [],
   "source": [
    "leagues.head()"
   ]
  },
  {
   "cell_type": "code",
   "execution_count": null,
   "metadata": {},
   "outputs": [],
   "source": [
    "teams.head()"
   ]
  },
  {
   "cell_type": "code",
   "execution_count": null,
   "metadata": {},
   "outputs": [],
   "source": [
    "teams.shape"
   ]
  },
  {
   "cell_type": "code",
   "execution_count": null,
   "metadata": {},
   "outputs": [],
   "source": [
    "teams.drop_duplicates()"
   ]
  },
  {
   "cell_type": "code",
   "execution_count": null,
   "metadata": {},
   "outputs": [],
   "source": [
    "teams.merge(leagues, on='league', how='outer')"
   ]
  },
  {
   "cell_type": "code",
   "execution_count": null,
   "metadata": {},
   "outputs": [],
   "source": []
  }
 ],
 "metadata": {
  "kernelspec": {
   "display_name": "Python 3",
   "language": "python",
   "name": "python3"
  },
  "language_info": {
   "codemirror_mode": {
    "name": "ipython",
    "version": 3
   },
   "file_extension": ".py",
   "mimetype": "text/x-python",
   "name": "python",
   "nbconvert_exporter": "python",
   "pygments_lexer": "ipython3",
   "version": "3.6.5"
  }
 },
 "nbformat": 4,
 "nbformat_minor": 2
}
